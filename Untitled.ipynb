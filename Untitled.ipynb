{
 "cells": [
  {
   "cell_type": "code",
   "execution_count": 41,
   "id": "ae3d3e47-8339-4876-b045-57894283f73d",
   "metadata": {
    "execution": {
     "iopub.execute_input": "2021-08-28T13:00:53.432077Z",
     "iopub.status.busy": "2021-08-28T13:00:53.431816Z",
     "iopub.status.idle": "2021-08-28T13:00:56.269598Z",
     "shell.execute_reply": "2021-08-28T13:00:56.268696Z",
     "shell.execute_reply.started": "2021-08-28T13:00:53.432053Z"
    },
    "tags": []
   },
   "outputs": [],
   "source": [
    "from google_photos.main import *\n",
    "from exif import Image"
   ]
  },
  {
   "cell_type": "code",
   "execution_count": 44,
   "id": "4372b536-947f-4c2a-95fc-7125aad06c52",
   "metadata": {
    "execution": {
     "iopub.execute_input": "2021-08-28T13:01:30.641545Z",
     "iopub.status.busy": "2021-08-28T13:01:30.641150Z",
     "iopub.status.idle": "2021-08-28T13:01:31.582682Z",
     "shell.execute_reply": "2021-08-28T13:01:31.582096Z",
     "shell.execute_reply.started": "2021-08-28T13:01:30.641500Z"
    },
    "tags": []
   },
   "outputs": [
    {
     "data": {
      "text/plain": [
       "View(path=PosixPath('/data/derek/Dropbox/Apps/Google Download Your Data/Takeout/Google Photos/Photos from 2018/2018.01.05-10 — Sri Lanka — 2018.01.07 10.28.43.jpg'))"
      ]
     },
     "execution_count": 44,
     "metadata": {},
     "output_type": "execute_result"
    }
   ],
   "source": [
    "ALL_PHOTOS = [v for v in ALL_VIEWS if v.is_photo]\n",
    "shuffle(ALL_PHOTOS)\n",
    "view = ALL_PHOTOS[0]\n",
    "view"
   ]
  },
  {
   "cell_type": "code",
   "execution_count": 45,
   "id": "4e68d05c-4e7b-43b4-86e6-0d26316e05e0",
   "metadata": {
    "execution": {
     "iopub.execute_input": "2021-08-28T13:01:32.487248Z",
     "iopub.status.busy": "2021-08-28T13:01:32.486905Z",
     "iopub.status.idle": "2021-08-28T13:01:32.504505Z",
     "shell.execute_reply": "2021-08-28T13:01:32.503952Z",
     "shell.execute_reply.started": "2021-08-28T13:01:32.487206Z"
    },
    "tags": []
   },
   "outputs": [
    {
     "data": {
      "text/plain": [
       "PosixPath('/data/derek/Dropbox/Apps/Google Download Your Data/Takeout/Google Photos/Photos from 2018/2018.01.05-10 — Sri Lanka — 2018.01.07 10.28.43.jpg')"
      ]
     },
     "execution_count": 45,
     "metadata": {},
     "output_type": "execute_result"
    },
    {
     "data": {
      "text/plain": [
       "PosixPath('/data/derek/Dropbox/Apps/Google Download Your Data/Takeout/Google Photos/Photos from 2018/2018.01.05-10 — Sri Lanka — 2018.01.07 10.28.43.01.05-10 — Sri Lanka — 2018.01.07 10.28.43.jpg.json')"
      ]
     },
     "execution_count": 45,
     "metadata": {},
     "output_type": "execute_result"
    },
    {
     "data": {
      "text/plain": [
       "False"
      ]
     },
     "execution_count": 45,
     "metadata": {},
     "output_type": "execute_result"
    }
   ],
   "source": [
    "view.path\n",
    "view._path_json\n",
    "view._path_json.exists()"
   ]
  },
  {
   "cell_type": "code",
   "execution_count": 40,
   "id": "9d4cfaa1-89d1-4816-98c3-da7253d7d420",
   "metadata": {
    "execution": {
     "iopub.execute_input": "2021-08-28T13:00:32.511961Z",
     "iopub.status.busy": "2021-08-28T13:00:32.511472Z",
     "iopub.status.idle": "2021-08-28T13:00:32.523546Z",
     "shell.execute_reply": "2021-08-28T13:00:32.522774Z",
     "shell.execute_reply.started": "2021-08-28T13:00:32.511927Z"
    },
    "tags": []
   },
   "outputs": [
    {
     "data": {
      "text/plain": [
       "['.05 — 2004', '.05', '.21 17', '.21', '.15', '.jpg']"
      ]
     },
     "execution_count": 40,
     "metadata": {},
     "output_type": "execute_result"
    }
   ],
   "source": [
    "view.path.suffixes"
   ]
  },
  {
   "cell_type": "code",
   "execution_count": null,
   "id": "6da690ca-fdc8-4d11-9647-998b458c3164",
   "metadata": {},
   "outputs": [],
   "source": []
  },
  {
   "cell_type": "code",
   "execution_count": 32,
   "id": "3e85c835-a0ea-4606-8871-98dd6f13bba5",
   "metadata": {
    "execution": {
     "iopub.execute_input": "2021-08-28T12:57:37.332534Z",
     "iopub.status.busy": "2021-08-28T12:57:37.332215Z",
     "iopub.status.idle": "2021-08-28T12:57:37.348201Z",
     "shell.execute_reply": "2021-08-28T12:57:37.347568Z",
     "shell.execute_reply.started": "2021-08-28T12:57:37.332498Z"
    },
    "tags": []
   },
   "outputs": [
    {
     "data": {
      "text/plain": [
       "True"
      ]
     },
     "execution_count": 32,
     "metadata": {},
     "output_type": "execute_result"
    }
   ],
   "source": [
    "view.path.parent.joinpath(view.path.name+'.json')"
   ]
  },
  {
   "cell_type": "code",
   "execution_count": 25,
   "id": "78d76724-b8b8-4995-a4bd-8538a73fbbe8",
   "metadata": {
    "execution": {
     "iopub.execute_input": "2021-08-28T12:43:44.629816Z",
     "iopub.status.busy": "2021-08-28T12:43:44.629555Z",
     "iopub.status.idle": "2021-08-28T12:43:44.742156Z",
     "shell.execute_reply": "2021-08-28T12:43:44.741544Z",
     "shell.execute_reply.started": "2021-08-28T12:43:44.629790Z"
    },
    "tags": []
   },
   "outputs": [
    {
     "data": {
      "text/plain": [
       "{'.HEIC',\n",
       " '.JPG',\n",
       " '.MOV',\n",
       " '.MP4',\n",
       " '.PNG',\n",
       " '.avi',\n",
       " '.heic',\n",
       " '.html',\n",
       " '.jpeg',\n",
       " '.jpg',\n",
       " '.json',\n",
       " '.mov',\n",
       " '.mp4',\n",
       " '.png',\n",
       " '.tgz'}"
      ]
     },
     "execution_count": 25,
     "metadata": {},
     "output_type": "execute_result"
    }
   ],
   "source": [
    "set(f.suffix for f in files)"
   ]
  },
  {
   "cell_type": "code",
   "execution_count": 5,
   "id": "6bb8aab6-b0bf-47ff-ba5e-abaab693a784",
   "metadata": {
    "execution": {
     "iopub.execute_input": "2021-08-28T12:35:10.885141Z",
     "iopub.status.busy": "2021-08-28T12:35:10.884872Z",
     "iopub.status.idle": "2021-08-28T12:35:10.899476Z",
     "shell.execute_reply": "2021-08-28T12:35:10.898740Z",
     "shell.execute_reply.started": "2021-08-28T12:35:10.885115Z"
    },
    "tags": []
   },
   "outputs": [
    {
     "data": {
      "text/plain": [
       "True"
      ]
     },
     "execution_count": 5,
     "metadata": {},
     "output_type": "execute_result"
    }
   ],
   "source": [
    "path=ROOT.joinpath('1','Takeout','Google Photos','Photos from 2021','0f4ae0de-d2b6-4157-b83a-1a55db1498af.jpg')\n",
    "path.is_file()"
   ]
  },
  {
   "cell_type": "code",
   "execution_count": 8,
   "id": "b89882c9-536f-4505-9c28-2f6fc3561466",
   "metadata": {
    "execution": {
     "iopub.execute_input": "2021-08-28T12:35:30.226169Z",
     "iopub.status.busy": "2021-08-28T12:35:30.225933Z",
     "iopub.status.idle": "2021-08-28T12:35:30.251768Z",
     "shell.execute_reply": "2021-08-28T12:35:30.251119Z",
     "shell.execute_reply.started": "2021-08-28T12:35:30.226149Z"
    },
    "tags": []
   },
   "outputs": [],
   "source": [
    "with open(path, mode='rb') as f: \n",
    "    im = Image(f)"
   ]
  },
  {
   "cell_type": "code",
   "execution_count": 9,
   "id": "b1fa41be-5c55-41a9-a529-ce273744a5b0",
   "metadata": {
    "execution": {
     "iopub.execute_input": "2021-08-28T12:35:35.280649Z",
     "iopub.status.busy": "2021-08-28T12:35:35.280483Z",
     "iopub.status.idle": "2021-08-28T12:35:35.289643Z",
     "shell.execute_reply": "2021-08-28T12:35:35.289133Z",
     "shell.execute_reply.started": "2021-08-28T12:35:35.280631Z"
    },
    "tags": []
   },
   "outputs": [
    {
     "data": {
      "text/plain": [
       "['_segments',\n",
       " 'delete',\n",
       " 'delete_all',\n",
       " 'get',\n",
       " 'get_all',\n",
       " 'get_file',\n",
       " 'get_thumbnail',\n",
       " 'has_exif',\n",
       " 'list_all']"
      ]
     },
     "execution_count": 9,
     "metadata": {},
     "output_type": "execute_result"
    }
   ],
   "source": [
    "dir(im)"
   ]
  },
  {
   "cell_type": "code",
   "execution_count": 11,
   "id": "499ea2d2-2997-4c0a-809d-5f41cd69ff99",
   "metadata": {
    "execution": {
     "iopub.execute_input": "2021-08-28T12:35:40.907007Z",
     "iopub.status.busy": "2021-08-28T12:35:40.906446Z",
     "iopub.status.idle": "2021-08-28T12:35:40.919629Z",
     "shell.execute_reply": "2021-08-28T12:35:40.918854Z",
     "shell.execute_reply.started": "2021-08-28T12:35:40.906985Z"
    },
    "tags": []
   },
   "outputs": [
    {
     "data": {
      "text/plain": [
       "False"
      ]
     },
     "execution_count": 11,
     "metadata": {},
     "output_type": "execute_result"
    }
   ],
   "source": [
    "im.has_exif"
   ]
  },
  {
   "cell_type": "code",
   "execution_count": 17,
   "id": "e0c97199-e728-4ce3-a1a6-a86fa692ebd1",
   "metadata": {
    "execution": {
     "iopub.execute_input": "2021-08-28T12:36:50.602611Z",
     "iopub.status.busy": "2021-08-28T12:36:50.602367Z",
     "iopub.status.idle": "2021-08-28T12:36:50.612708Z",
     "shell.execute_reply": "2021-08-28T12:36:50.612119Z",
     "shell.execute_reply.started": "2021-08-28T12:36:50.602588Z"
    },
    "tags": []
   },
   "outputs": [
    {
     "data": {
      "text/plain": [
       "{'title': '0f4ae0de-d2b6-4157-b83a-1a55db1498af.jpg',\n",
       " 'description': '',\n",
       " 'imageViews': '0',\n",
       " 'creationTime': {'timestamp': '1609593030',\n",
       "  'formatted': '2 Jan 2021, 13:10:30 UTC'},\n",
       " 'photoTakenTime': {'timestamp': '1609580662',\n",
       "  'formatted': '2 Jan 2021, 09:44:22 UTC'},\n",
       " 'geoData': {'latitude': 0.0,\n",
       "  'longitude': 0.0,\n",
       "  'altitude': 0.0,\n",
       "  'latitudeSpan': 0.0,\n",
       "  'longitudeSpan': 0.0},\n",
       " 'geoDataExif': {'latitude': 0.0,\n",
       "  'longitude': 0.0,\n",
       "  'altitude': 0.0,\n",
       "  'latitudeSpan': 0.0,\n",
       "  'longitudeSpan': 0.0},\n",
       " 'people': [{'name': 'Ryoko Hieda'}, {'name': 'Tijana Wan'}],\n",
       " 'googlePhotosOrigin': {'mobileUpload': {'deviceType': 'IOS_PHONE'}}}"
      ]
     },
     "execution_count": 17,
     "metadata": {},
     "output_type": "execute_result"
    }
   ],
   "source": [
    "with open(path.parent.joinpath(\"0f4ae0de-d2b6-4157-b83a-1a55db1498af.jpg.json\")) as f:\n",
    "    js = json.load(f)\n",
    "js"
   ]
  },
  {
   "cell_type": "code",
   "execution_count": 18,
   "id": "20a70c03-71af-4cb1-b191-2f31f36f1c32",
   "metadata": {
    "execution": {
     "iopub.execute_input": "2021-08-28T12:37:14.105413Z",
     "iopub.status.busy": "2021-08-28T12:37:14.105221Z",
     "iopub.status.idle": "2021-08-28T12:37:14.115393Z",
     "shell.execute_reply": "2021-08-28T12:37:14.114676Z",
     "shell.execute_reply.started": "2021-08-28T12:37:14.105392Z"
    },
    "tags": []
   },
   "outputs": [
    {
     "data": {
      "text/plain": [
       "'1609593030'"
      ]
     },
     "execution_count": 18,
     "metadata": {},
     "output_type": "execute_result"
    }
   ],
   "source": [
    "ts=int(js['creationTime']['timestamp'])\n",
    "ts\n"
   ]
  }
 ],
 "metadata": {
  "kernelspec": {
   "display_name": "Python 3 (ipykernel)",
   "language": "python",
   "name": "python3"
  },
  "language_info": {
   "codemirror_mode": {
    "name": "ipython",
    "version": 3
   },
   "file_extension": ".py",
   "mimetype": "text/x-python",
   "name": "python",
   "nbconvert_exporter": "python",
   "pygments_lexer": "ipython3",
   "version": "3.9.5"
  }
 },
 "nbformat": 4,
 "nbformat_minor": 5
}
