{
 "cells": [
  {
   "cell_type": "code",
   "execution_count": 19,
   "id": "ae3d3e47-8339-4876-b045-57894283f73d",
   "metadata": {
    "execution": {
     "iopub.execute_input": "2021-08-28T12:42:53.683856Z",
     "iopub.status.busy": "2021-08-28T12:42:53.683640Z",
     "iopub.status.idle": "2021-08-28T12:42:53.693887Z",
     "shell.execute_reply": "2021-08-28T12:42:53.693307Z",
     "shell.execute_reply.started": "2021-08-28T12:42:53.683834Z"
    },
    "tags": []
   },
   "outputs": [],
   "source": [
    "from google_photos.main import *\n",
    "from exif import Image"
   ]
  },
  {
   "cell_type": "code",
   "execution_count": 20,
   "id": "4372b536-947f-4c2a-95fc-7125aad06c52",
   "metadata": {
    "execution": {
     "iopub.execute_input": "2021-08-28T12:43:10.286319Z",
     "iopub.status.busy": "2021-08-28T12:43:10.285481Z",
     "iopub.status.idle": "2021-08-28T12:43:11.952125Z",
     "shell.execute_reply": "2021-08-28T12:43:11.951609Z",
     "shell.execute_reply.started": "2021-08-28T12:43:10.286217Z"
    },
    "tags": []
   },
   "outputs": [],
   "source": [
    "files = [f for f in recursive_iterdir(ROOT) if f.is_file()]"
   ]
  },
  {
   "cell_type": "code",
   "execution_count": 21,
   "id": "3e85c835-a0ea-4606-8871-98dd6f13bba5",
   "metadata": {
    "execution": {
     "iopub.execute_input": "2021-08-28T12:43:14.266084Z",
     "iopub.status.busy": "2021-08-28T12:43:14.263399Z",
     "iopub.status.idle": "2021-08-28T12:43:14.296714Z",
     "shell.execute_reply": "2021-08-28T12:43:14.295780Z",
     "shell.execute_reply.started": "2021-08-28T12:43:14.265935Z"
    },
    "tags": []
   },
   "outputs": [
    {
     "data": {
      "text/plain": [
       "[PosixPath('/data/derek/Dropbox/Apps/Google Download Your Data/1/takeout-20210424T020526Z-001.tgz'),\n",
       " PosixPath('/data/derek/Dropbox/Apps/Google Download Your Data/1/Takeout/Google Photos/2012-01-06 – 2012-01-08 — Beijing, China/2012.01.06-08 — Beijing — 2012.01.06 16.09.14..json'),\n",
       " PosixPath('/data/derek/Dropbox/Apps/Google Download Your Data/1/Takeout/Google Photos/2012-01-06 – 2012-01-08 — Beijing, China/2012.01.06-08 — Beijing — 2012.01.07 22.28.25.jpg')]"
      ]
     },
     "execution_count": 21,
     "metadata": {},
     "output_type": "execute_result"
    }
   ],
   "source": [
    "files[:3]"
   ]
  },
  {
   "cell_type": "code",
   "execution_count": 25,
   "id": "78d76724-b8b8-4995-a4bd-8538a73fbbe8",
   "metadata": {
    "execution": {
     "iopub.execute_input": "2021-08-28T12:43:44.629816Z",
     "iopub.status.busy": "2021-08-28T12:43:44.629555Z",
     "iopub.status.idle": "2021-08-28T12:43:44.742156Z",
     "shell.execute_reply": "2021-08-28T12:43:44.741544Z",
     "shell.execute_reply.started": "2021-08-28T12:43:44.629790Z"
    },
    "tags": []
   },
   "outputs": [
    {
     "data": {
      "text/plain": [
       "{'.HEIC',\n",
       " '.JPG',\n",
       " '.MOV',\n",
       " '.MP4',\n",
       " '.PNG',\n",
       " '.avi',\n",
       " '.heic',\n",
       " '.html',\n",
       " '.jpeg',\n",
       " '.jpg',\n",
       " '.json',\n",
       " '.mov',\n",
       " '.mp4',\n",
       " '.png',\n",
       " '.tgz'}"
      ]
     },
     "execution_count": 25,
     "metadata": {},
     "output_type": "execute_result"
    }
   ],
   "source": [
    "set(f.suffix for f in files)"
   ]
  },
  {
   "cell_type": "code",
   "execution_count": 5,
   "id": "6bb8aab6-b0bf-47ff-ba5e-abaab693a784",
   "metadata": {
    "execution": {
     "iopub.execute_input": "2021-08-28T12:35:10.885141Z",
     "iopub.status.busy": "2021-08-28T12:35:10.884872Z",
     "iopub.status.idle": "2021-08-28T12:35:10.899476Z",
     "shell.execute_reply": "2021-08-28T12:35:10.898740Z",
     "shell.execute_reply.started": "2021-08-28T12:35:10.885115Z"
    },
    "tags": []
   },
   "outputs": [
    {
     "data": {
      "text/plain": [
       "True"
      ]
     },
     "execution_count": 5,
     "metadata": {},
     "output_type": "execute_result"
    }
   ],
   "source": [
    "path=ROOT.joinpath('1','Takeout','Google Photos','Photos from 2021','0f4ae0de-d2b6-4157-b83a-1a55db1498af.jpg')\n",
    "path.is_file()"
   ]
  },
  {
   "cell_type": "code",
   "execution_count": 8,
   "id": "b89882c9-536f-4505-9c28-2f6fc3561466",
   "metadata": {
    "execution": {
     "iopub.execute_input": "2021-08-28T12:35:30.226169Z",
     "iopub.status.busy": "2021-08-28T12:35:30.225933Z",
     "iopub.status.idle": "2021-08-28T12:35:30.251768Z",
     "shell.execute_reply": "2021-08-28T12:35:30.251119Z",
     "shell.execute_reply.started": "2021-08-28T12:35:30.226149Z"
    },
    "tags": []
   },
   "outputs": [],
   "source": [
    "with open(path, mode='rb') as f: \n",
    "    im = Image(f)"
   ]
  },
  {
   "cell_type": "code",
   "execution_count": 9,
   "id": "b1fa41be-5c55-41a9-a529-ce273744a5b0",
   "metadata": {
    "execution": {
     "iopub.execute_input": "2021-08-28T12:35:35.280649Z",
     "iopub.status.busy": "2021-08-28T12:35:35.280483Z",
     "iopub.status.idle": "2021-08-28T12:35:35.289643Z",
     "shell.execute_reply": "2021-08-28T12:35:35.289133Z",
     "shell.execute_reply.started": "2021-08-28T12:35:35.280631Z"
    },
    "tags": []
   },
   "outputs": [
    {
     "data": {
      "text/plain": [
       "['_segments',\n",
       " 'delete',\n",
       " 'delete_all',\n",
       " 'get',\n",
       " 'get_all',\n",
       " 'get_file',\n",
       " 'get_thumbnail',\n",
       " 'has_exif',\n",
       " 'list_all']"
      ]
     },
     "execution_count": 9,
     "metadata": {},
     "output_type": "execute_result"
    }
   ],
   "source": [
    "dir(im)"
   ]
  },
  {
   "cell_type": "code",
   "execution_count": 11,
   "id": "499ea2d2-2997-4c0a-809d-5f41cd69ff99",
   "metadata": {
    "execution": {
     "iopub.execute_input": "2021-08-28T12:35:40.907007Z",
     "iopub.status.busy": "2021-08-28T12:35:40.906446Z",
     "iopub.status.idle": "2021-08-28T12:35:40.919629Z",
     "shell.execute_reply": "2021-08-28T12:35:40.918854Z",
     "shell.execute_reply.started": "2021-08-28T12:35:40.906985Z"
    },
    "tags": []
   },
   "outputs": [
    {
     "data": {
      "text/plain": [
       "False"
      ]
     },
     "execution_count": 11,
     "metadata": {},
     "output_type": "execute_result"
    }
   ],
   "source": [
    "im.has_exif"
   ]
  },
  {
   "cell_type": "code",
   "execution_count": 17,
   "id": "e0c97199-e728-4ce3-a1a6-a86fa692ebd1",
   "metadata": {
    "execution": {
     "iopub.execute_input": "2021-08-28T12:36:50.602611Z",
     "iopub.status.busy": "2021-08-28T12:36:50.602367Z",
     "iopub.status.idle": "2021-08-28T12:36:50.612708Z",
     "shell.execute_reply": "2021-08-28T12:36:50.612119Z",
     "shell.execute_reply.started": "2021-08-28T12:36:50.602588Z"
    },
    "tags": []
   },
   "outputs": [
    {
     "data": {
      "text/plain": [
       "{'title': '0f4ae0de-d2b6-4157-b83a-1a55db1498af.jpg',\n",
       " 'description': '',\n",
       " 'imageViews': '0',\n",
       " 'creationTime': {'timestamp': '1609593030',\n",
       "  'formatted': '2 Jan 2021, 13:10:30 UTC'},\n",
       " 'photoTakenTime': {'timestamp': '1609580662',\n",
       "  'formatted': '2 Jan 2021, 09:44:22 UTC'},\n",
       " 'geoData': {'latitude': 0.0,\n",
       "  'longitude': 0.0,\n",
       "  'altitude': 0.0,\n",
       "  'latitudeSpan': 0.0,\n",
       "  'longitudeSpan': 0.0},\n",
       " 'geoDataExif': {'latitude': 0.0,\n",
       "  'longitude': 0.0,\n",
       "  'altitude': 0.0,\n",
       "  'latitudeSpan': 0.0,\n",
       "  'longitudeSpan': 0.0},\n",
       " 'people': [{'name': 'Ryoko Hieda'}, {'name': 'Tijana Wan'}],\n",
       " 'googlePhotosOrigin': {'mobileUpload': {'deviceType': 'IOS_PHONE'}}}"
      ]
     },
     "execution_count": 17,
     "metadata": {},
     "output_type": "execute_result"
    }
   ],
   "source": [
    "with open(path.parent.joinpath(\"0f4ae0de-d2b6-4157-b83a-1a55db1498af.jpg.json\")) as f:\n",
    "    js = json.load(f)\n",
    "js"
   ]
  },
  {
   "cell_type": "code",
   "execution_count": 18,
   "id": "20a70c03-71af-4cb1-b191-2f31f36f1c32",
   "metadata": {
    "execution": {
     "iopub.execute_input": "2021-08-28T12:37:14.105413Z",
     "iopub.status.busy": "2021-08-28T12:37:14.105221Z",
     "iopub.status.idle": "2021-08-28T12:37:14.115393Z",
     "shell.execute_reply": "2021-08-28T12:37:14.114676Z",
     "shell.execute_reply.started": "2021-08-28T12:37:14.105392Z"
    },
    "tags": []
   },
   "outputs": [
    {
     "data": {
      "text/plain": [
       "'1609593030'"
      ]
     },
     "execution_count": 18,
     "metadata": {},
     "output_type": "execute_result"
    }
   ],
   "source": [
    "ts=int(js['creationTime']['timestamp'])\n",
    "ts\n"
   ]
  }
 ],
 "metadata": {
  "kernelspec": {
   "display_name": "Python 3 (ipykernel)",
   "language": "python",
   "name": "python3"
  },
  "language_info": {
   "codemirror_mode": {
    "name": "ipython",
    "version": 3
   },
   "file_extension": ".py",
   "mimetype": "text/x-python",
   "name": "python",
   "nbconvert_exporter": "python",
   "pygments_lexer": "ipython3",
   "version": "3.9.5"
  }
 },
 "nbformat": 4,
 "nbformat_minor": 5
}
